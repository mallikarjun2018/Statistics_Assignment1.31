{
 "cells": [
  {
   "cell_type": "code",
   "execution_count": 1,
   "metadata": {},
   "outputs": [
    {
     "data": {
      "text/plain": [
       "[0.8, 0.1, 0.07, 0.03]"
      ]
     },
     "execution_count": 1,
     "metadata": {},
     "output_type": "execute_result"
    }
   ],
   "source": [
    "n= 100\n",
    "all_sub_pass = 80\n",
    "one_sub_pass = 10\n",
    "two_sub_pass = 7\n",
    "three_sub_pass = 3\n",
    "\n",
    "no_sub_fail_prob = all_sub_pass/n\n",
    "one_sub_fail_prob = one_sub_pass/n\n",
    "two_sub_fail_prob=two_sub_pass/n\n",
    "three_sub_fail_prob = three_sub_pass/n\n",
    "prob_dist = [no_sub_fail_prob,one_sub_fail_prob,two_sub_fail_prob,three_sub_fail_prob]\n",
    "prob_dist"
   ]
  },
  {
   "cell_type": "code",
   "execution_count": null,
   "metadata": {},
   "outputs": [],
   "source": []
  }
 ],
 "metadata": {
  "kernelspec": {
   "display_name": "Python 3",
   "language": "python",
   "name": "python3"
  },
  "language_info": {
   "codemirror_mode": {
    "name": "ipython",
    "version": 3
   },
   "file_extension": ".py",
   "mimetype": "text/x-python",
   "name": "python",
   "nbconvert_exporter": "python",
   "pygments_lexer": "ipython3",
   "version": "3.6.4"
  }
 },
 "nbformat": 4,
 "nbformat_minor": 2
}
